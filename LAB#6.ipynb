{
 "cells": [
  {
   "cell_type": "markdown",
   "id": "d01bded5-8f15-4ddf-9c02-a969899b8cbf",
   "metadata": {},
   "source": [
    "**Лабораторна робота №6**\n",
    "# Йожкін Максим Русланович\n",
    "# Група - КН23004бСК\n",
    "# Варіант №13"
   ]
  },
  {
   "cell_type": "markdown",
   "id": "58099fe4-c590-47b2-a54b-f9420e60f7b6",
   "metadata": {},
   "source": [
    "# Завдання №1\n",
    "## Опис завдання: \n",
    "## Створити програму для генерації довільного масиву із 48 цілих чисел, які не перевищують по модулю 99, з наступними властивостями:\n",
    "* При кожному запуску програми масив повинен бути різним.\n",
    "* Масив повинен містити від 3 до 4 максимальних (однакових) елементів.\n",
    "* Масив повинен містити 20 відсотків нульових елементів (розташованих в довільних місцях)."
   ]
  },
  {
   "cell_type": "markdown",
   "id": "c6bdb368-52d0-4c9b-a351-79e134a7fa49",
   "metadata": {},
   "source": [
    "## Тут виконується створення списку з подальшим його заповненням випадковими значеннями за вказаним інтервалом. Далі визначається максимальний значення списку, після чого визначається наявна кількість максимальних значень в списку та випадковим чином відбирається число(3 або 4). Відібране число грає роль кількості максимальних значень, яка повинні бути в списку. Але оскільки в списку можуть бути вже присутні максимальні значення, то потрібно врахувати цей момент та від потрібної кількості значень для додавання в список відняти кількість наявних максимальних значень. Далі виконується перевірка на необхідність в додаванні нових максимальних значень в список. В разі, якщо визначена кількість потрібних для додавання значень більша за нуль, то в такому випадку випадковим чином будуть додані максимальні значення до списку. Наступним кроком йде створення списку з подальшим заповненням значеннями, який буде заповнений з ігноруванням максимальних значень в списку. З цього списку буде відібрано 20 відсотків унікальних та випадкових індексів, за якими в основний список будуть вставлятися нулі. Таким чином буде отримано оновлений список."
   ]
  },
  {
   "cell_type": "markdown",
   "id": "7101f472-5e70-4ef0-ba25-225d77850724",
   "metadata": {},
   "source": [
    "# Фрагмент коду програми до поточного завдання:"
   ]
  },
  {
   "cell_type": "code",
   "execution_count": 4,
   "id": "16fe5753-5664-451e-8bfd-6df2830345f7",
   "metadata": {},
   "outputs": [
    {
     "name": "stdout",
     "output_type": "stream",
     "text": [
      "Початковий список: \n",
      "[-68, 9, 38, -52, 38, 7, -2, -60, 17, -3, -4, -15, -82, -30, 64, -11, -45, 92, -58, 60, 64, 30, 76, -15, -26, 51, 27, 23, 35, -33, -72, -26, 60, -97, -84, 62, -27, -60, 1, -9, 43, 32, 2, 7, -18, 89, 55, 24]\n",
      "\n",
      "Оновлений список: \n",
      "[-68, 9, 38, -52, 38, 0, -2, -60, 17, -3, 0, -15, 92, -30, 64, 92, -45, 0, 0, 60, 0, 30, 76, -15, -26, 51, 27, 23, 35, -33, -72, -26, 60, -97, 0, 62, -27, -60, 1, -9, 0, 32, 0, 0, 92, 89, 55, 24]\n"
     ]
    }
   ],
   "source": [
    "import random\n",
    "\n",
    "list_elem = []\n",
    "for i in range(48):\n",
    "    list_elem.append(random.randint(-98, 98))\n",
    "print(\"Початковий список: \")\n",
    "print(list_elem)\n",
    "max_elem = max(list_elem)\n",
    "count_max_1 = list_elem.count(max_elem)\n",
    "count_max_2 = random.choice([3,4])\n",
    "count_max = count_max_2 - count_max_1\n",
    "if(count_max > 0):\n",
    "    list_ind_max = random.sample(range(len(list_elem)), count_max)\n",
    "    for i in list_ind_max:\n",
    "        list_elem[i] = max(list_elem)\n",
    "list_nul = []\n",
    "for i in list_elem:\n",
    "    if i not in list_ind_max:\n",
    "        list_nul.append(i)\n",
    "list_ind_nul = random.sample(range(len(list_nul)),int(len(list_elem)*0.2))\n",
    "for i in list_ind_nul:\n",
    "    list_elem[i] = 0\n",
    "print(\"\\nОновлений список: \")\n",
    "print(list_elem)"
   ]
  },
  {
   "cell_type": "markdown",
   "id": "22d5482e-50bf-4d1a-9e61-8389c00e6500",
   "metadata": {},
   "source": [
    "**Завдання №2**\n",
    "## Опис завдання:\n",
    "## Зберегти згенерований масив в файл."
   ]
  },
  {
   "cell_type": "markdown",
   "id": "5c7d20e1-99cb-4055-a85e-5108d9b508be",
   "metadata": {},
   "source": [
    "## Створюється з подальшим збереженням текстовий файл з можливістю запису в нього даних. В даному випадку в цей файл записуються дані попереднього оновленого списку. Для поточного фрагменту коду використовується перевірка на коректність роботи з файлом. "
   ]
  },
  {
   "cell_type": "markdown",
   "id": "853b71e9-ac69-435b-8d3c-580e33de9f1d",
   "metadata": {},
   "source": [
    "# Фрагмент коду програми до поточного завдання:"
   ]
  },
  {
   "cell_type": "code",
   "execution_count": 5,
   "id": "2f57b181-bcb0-4421-b5de-f9345aaca06b",
   "metadata": {},
   "outputs": [],
   "source": [
    "try:\n",
    "    with open(\"data_list.txt\", \"w\") as file_list:\n",
    "        file_list.write(str(list_elem))\n",
    "except Exception as e:\n",
    "    print(f\"При роботі з поточним файлом виникла помилка: {e}\")"
   ]
  },
  {
   "cell_type": "markdown",
   "id": "24fbddb4-23c5-4bb1-b66c-cba1074d5420",
   "metadata": {},
   "source": [
    "**Завдання №3**\n",
    "## Опис завдання:\n",
    "## Створити програму, яка зчитує із файлу згенерований масив попередньою програмою і виводить його на екран."
   ]
  },
  {
   "cell_type": "markdown",
   "id": "1422f0ee-b7f2-4818-a202-d1af4785002c",
   "metadata": {},
   "source": [
    "## В поточному фрагменті коду відкривається раніше створений текстовий файл для читання даних, де після відкриття виконується зчитування списку значень, після чого дані списку виводяться на екран консолі. Також використовується перевірка на коректність роботи з файлом. "
   ]
  },
  {
   "cell_type": "markdown",
   "id": "7145fa8a-e85d-4eae-b9df-378ad42bb415",
   "metadata": {},
   "source": [
    "# Фрагмент коду програми до поточного завдання:"
   ]
  },
  {
   "cell_type": "code",
   "execution_count": 6,
   "id": "12a47363-1be0-4eb0-b332-91522b463ad4",
   "metadata": {},
   "outputs": [
    {
     "name": "stdout",
     "output_type": "stream",
     "text": [
      "[-68, 9, 38, -52, 38, 0, -2, -60, 17, -3, 0, -15, 92, -30, 64, 92, -45, 0, 0, 60, 0, 30, 76, -15, -26, 51, 27, 23, 35, -33, -72, -26, 60, -97, 0, 62, -27, -60, 1, -9, 0, 32, 0, 0, 92, 89, 55, 24]\n"
     ]
    }
   ],
   "source": [
    "try:\n",
    "    with open(\"data_list.txt\", \"r\") as file_list:\n",
    "        list_elem = file_list.read()\n",
    "        list_elem = eval(list_elem)\n",
    "        print(list_elem)\n",
    "except Exception as e:\n",
    "    print(f\"При роботі з файлом виникла помилка: {e}\")"
   ]
  },
  {
   "cell_type": "markdown",
   "id": "6419f7ad-b584-4a9f-9bcd-5a6801573a18",
   "metadata": {},
   "source": [
    "**Завдання №4**\n",
    "## Опис завдання:\n",
    "## Візуалізувати масив за допомогою стовпчастої горизонтальної діаграми. Виділити кольором максимальні елементи, а також вказати ці значення на діаграмі. Виділити іншим кольором від’ємні елементи."
   ]
  },
  {
   "cell_type": "markdown",
   "id": "cc400fc6-909b-4863-9fd5-8bbeb29e240c",
   "metadata": {},
   "source": [
    "## Цей фрагмент коду відповідає за створення функції, яка в свою чергу буде створювати стовпчасту горизонтальну діаграму за вказаними властивостями. Тут список індексів використовується в якості значень для осі Y, а для осі X виступають самі значення за цими індексами. Тут є перевірка при проходженні по списку значень, де в разі визначення максимального значення в списку, в список кольорів заноситься червоний колір, а також стовпчику з максимальним значенням на майбутній діаграмі вказується його числове значення. Якщо значення в списку менше за нуль, то в список кольорів буде заноситися синій колір. В інших випадках додається в список кольорів чорний колір. Далі виконується налаштування діаграми, шляхом вказання властивостей. Саме для самої діаграми будуть вказані значення за осею X та Y, а також список визначених кольорів для стовпців. Вказується назва діаграми. Далі вказуються підписи для осей координатної площини. І вже потім виконується відображення налаштованого вікна з діаграмою.  "
   ]
  },
  {
   "cell_type": "markdown",
   "id": "33c4dbe7-b567-4712-a1c1-2e74634b0a0d",
   "metadata": {},
   "source": [
    "# Фрагмент коду програми до поточного завдання:"
   ]
  },
  {
   "cell_type": "code",
   "execution_count": 7,
   "id": "4231b583-2cd0-468d-8ded-d0cbff73b58c",
   "metadata": {},
   "outputs": [
    {
     "data": {
      "image/png": "[encoded data removed]",
      "text/plain": [
       "<Figure size 640x480 with 1 Axes>"
      ]
     },
     "metadata": {},
     "output_type": "display_data"
    }
   ],
   "source": [
    "import matplotlib.pyplot as plt\n",
    "\n",
    "def create_diagram(list_elem: list):\n",
    "    list_ind = []\n",
    "    for i in range(len(list_elem)):\n",
    "        list_ind.append(i)\n",
    "    list_color = []\n",
    "    for i in range(len(list_elem)):\n",
    "        if list_elem[i] == max(list_elem):\n",
    "            list_color.append(\"red\")\n",
    "            plt.text(list_elem[i], i, str(list_elem[i]), color = \"red\")\n",
    "        elif list_elem[i] < 0:\n",
    "            list_color.append(\"blue\")\n",
    "        else:\n",
    "            list_color.append(\"black\")\n",
    "    plt.barh(list_ind,list_elem, color = list_color)\n",
    "    plt.title(\"Статистика по елементам списку\")\n",
    "    plt.xlabel(\"Значення елементів\")\n",
    "    plt.ylabel(\"Індекси елементів\")\n",
    "    plt.show()\n",
    "create_diagram(list_elem)"
   ]
  },
  {
   "cell_type": "markdown",
   "id": "e16cc9f7-fbe4-4903-bbed-3f8b1630a441",
   "metadata": {},
   "source": [
    "**Завдання №5**\n",
    "## Опис завдання:\n",
    "## Порахувати кількість елементів із інтервалу [a,b], який задає користувач."
   ]
  },
  {
   "cell_type": "markdown",
   "id": "00878517-97eb-433f-98d3-ca3e2d3b0427",
   "metadata": {},
   "source": [
    "## Тут вводиться граничне початкове та кінцеве значення, де потім під час проходження по списку значень лічильник буде рахувати тільки ті значення, які розміщуються у вказаному інтервалі списку. Таким чином на екран буде виведена кількість елементів, які знаходяться в межах інтервалу списку. "
   ]
  },
  {
   "cell_type": "markdown",
   "id": "45581153-9163-4f15-9675-cd5a725ce4e2",
   "metadata": {},
   "source": [
    "# Фрагмент коду програми до поточного завдання:"
   ]
  },
  {
   "cell_type": "code",
   "execution_count": 8,
   "id": "38b6996d-df1a-4344-a104-be6b19c14f6b",
   "metadata": {},
   "outputs": [
    {
     "name": "stdin",
     "output_type": "stream",
     "text": [
      "Введіть початкове граничне значення =>  5\n",
      "Введіть кінцеве граничне значення =>  10\n"
     ]
    },
    {
     "name": "stdout",
     "output_type": "stream",
     "text": [
      "Кількість елементів в інтервалі [5,10] становить 1 елементів.\n"
     ]
    }
   ],
   "source": [
    "count_elem = 0\n",
    "start_val = input(\"Введіть початкове граничне значення => \")\n",
    "end_val = input(\"Введіть кінцеве граничне значення => \")\n",
    "for i in range(len(list_elem)):\n",
    "    if int(start_val) <= list_elem[i] <= int(end_val):\n",
    "        count_elem += 1\n",
    "print(f\"Кількість елементів в інтервалі [{start_val},{end_val}] становить {count_elem} елементів.\")"
   ]
  },
  {
   "cell_type": "markdown",
   "id": "1afc5e08-70e5-44a2-a756-7f8ba9fe2628",
   "metadata": {},
   "source": [
    "**Завдання №6**\n",
    "## Опис завдання:\n",
    "## Порахувати суму елементів масиву, розташованих після останнього максимального."
   ]
  },
  {
   "cell_type": "markdown",
   "id": "138fb8af-c5f1-4e69-918a-045373d34553",
   "metadata": {},
   "source": [
    "## Тут створюється список, який потім заповнюється максимальними значеннями. Визначається індекс останнього значення у списку значень та потім виконується сумування тільки тих значень, які розміщені в списку після індексу останнього максимального значення. В результаті виводиться на екран консолі визначена сума таких елементів."
   ]
  },
  {
   "cell_type": "markdown",
   "id": "c8a7f3ea-b3f9-40d4-8a1f-5eb084309dec",
   "metadata": {},
   "source": [
    "# Фрагмент коду програми до поточного завдання:"
   ]
  },
  {
   "cell_type": "code",
   "execution_count": 9,
   "id": "05114377-9698-4ff9-b656-92a60b2707d0",
   "metadata": {},
   "outputs": [
    {
     "name": "stdout",
     "output_type": "stream",
     "text": [
      "Сума елементів списку, які розташовані після останнього елементу з максимальним значенням становить 168\n"
     ]
    }
   ],
   "source": [
    "list_max = []\n",
    "for i in range(len(list_elem)):\n",
    "    if list_elem[i] == max(list_elem):\n",
    "        list_max.append(i)\n",
    "end_ind = list_max[-1]\n",
    "val_end_ind = list_elem[end_ind]\n",
    "sum_elem = 0\n",
    "for i in range(len(list_elem)):\n",
    "    if i > end_ind:\n",
    "        sum_elem += list_elem[i]\n",
    "print(f\"Сума елементів списку, які розташовані після останнього елементу з максимальним значенням становить {sum_elem}\")"
   ]
  },
  {
   "cell_type": "markdown",
   "id": "8f49e661-0bb6-487b-8d2c-bac3374e9dac",
   "metadata": {},
   "source": [
    "**Завдання №7**\n",
    "## Опис завдання:\n",
    "## Перетворити масив таким чином, щоб спочатку йшли всі нульові елементи, потім всі інші елементи, відсортовані за збиванням. Вивести отриманий масив та його графічну діаграму на екран"
   ]
  },
  {
   "cell_type": "markdown",
   "id": "ffba79e4-70ad-4c6d-a80a-6092acdaa8b1",
   "metadata": {},
   "source": [
    "## В цьому фрагменті коду є списки для нульових та інших значень списку. Заповнений список інших значень сортується за збиванням. Потім створюється список, в який буде збережено з'єднання списку з нульовими значенням та списку з іншими значенням так, що нульові значення додаються до нового списку першим чином, а вже потім інші відсортовані значення. Далі виводиться на екран консолі новий список та використовується функція створення стовпчастої горизонтальної діаграми з ціллю відобразити оновлену діаграму з урахуванням в параметрах функції вже нового списку значень. "
   ]
  },
  {
   "cell_type": "markdown",
   "id": "21591c50-16b0-4d41-aa43-0fe317bc7b18",
   "metadata": {},
   "source": [
    "# Фрагмент коду програми до поточного завдання:"
   ]
  },
  {
   "cell_type": "code",
   "execution_count": 10,
   "id": "3f000c78-aff8-4a6b-a20c-90ce69257c6a",
   "metadata": {},
   "outputs": [
    {
     "name": "stdout",
     "output_type": "stream",
     "text": [
      "Змінений масив з нулями на початку та з відсортованими елементами після них за збиванням:\n",
      "[0, 0, 0, 0, 0, 0, 0, 0, 0, 92, 92, 92, 89, 76, 64, 62, 60, 60, 55, 51, 38, 38, 35, 32, 30, 27, 24, 23, 17, 9, 1, -2, -3, -9, -15, -15, -26, -26, -27, -30, -33, -45, -52, -60, -60, -68, -72, -97]\n"
     ]
    },
    {
     "data": {
      "image/png": "[encoded data removed]",
      "text/plain": [
       "<Figure size 640x480 with 1 Axes>"
      ]
     },
     "metadata": {},
     "output_type": "display_data"
    }
   ],
   "source": [
    "list_nul = []\n",
    "list_other = []\n",
    "update_list = []\n",
    "for i in range(len(list_elem)):\n",
    "    if list_elem[i] == 0:\n",
    "        list_nul.append(list_elem[i])\n",
    "for i in range(len(list_elem)):\n",
    "    if list_elem[i] != 0:\n",
    "        list_other.append(list_elem[i])\n",
    "list_other.sort(reverse = True)\n",
    "update_list = list_nul + list_other\n",
    "print(\"Змінений масив з нулями на початку та з відсортованими елементами після них за збиванням:\")\n",
    "print(update_list)\n",
    "create_diagram(update_list)"
   ]
  },
  {
   "cell_type": "markdown",
   "id": "b38966f9-0944-4c25-b182-81cf4f5d767d",
   "metadata": {},
   "source": [
    "**Посилання на проект github: https://github.com/maksim-yozhkin/LAB_6.git**"
   ]
  },
  {
   "cell_type": "markdown",
   "id": "e50f3ffd-ca74-45fe-ae08-df814e6b828e",
   "metadata": {},
   "source": [
    "**Висновок:**\n",
    "## В ході виконання поточної лабораторної роботи був досліджений модуль для роботи з випадковими числами, робота з файлами, модуль для роботи з діаграмами, а також масиви та цикли. На основі цього було реалізовано 7 пунктів основного завдання за варіантом. Також було досліджено роботу та особливості середовища jupyter."
   ]
  }
 ],
 "metadata": {
  "kernelspec": {
   "display_name": "Python 3 (ipykernel)",
   "language": "python",
   "name": "python3"
  },
  "language_info": {
   "codemirror_mode": {
    "name": "ipython",
    "version": 3
   },
   "file_extension": ".py",
   "mimetype": "text/x-python",
   "name": "python",
   "nbconvert_exporter": "python",
   "pygments_lexer": "ipython3",
   "version": "3.12.5"
  }
 },
 "nbformat": 4,
 "nbformat_minor": 5
}
